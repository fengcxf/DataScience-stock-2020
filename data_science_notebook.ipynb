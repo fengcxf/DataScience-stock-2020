{
  "nbformat": 4,
  "nbformat_minor": 0,
  "metadata": {
    "colab": {
      "provenance": [],
      "toc_visible": true,
      "authorship_tag": "ABX9TyMWquFU7gn3N2pZmkE71f4F",
      "include_colab_link": true
    },
    "kernelspec": {
      "name": "python3",
      "display_name": "Python 3"
    },
    "language_info": {
      "name": "python"
    }
  },
  "cells": [
    {
      "cell_type": "markdown",
      "metadata": {
        "id": "view-in-github",
        "colab_type": "text"
      },
      "source": [
        "<a href=\"https://colab.research.google.com/github/fengcxf/DataScience-stock-2020/blob/main/data_science_notebook.ipynb\" target=\"_parent\"><img src=\"https://colab.research.google.com/assets/colab-badge.svg\" alt=\"Open In Colab\"/></a>"
      ]
    },
    {
      "cell_type": "markdown",
      "source": [
        "## Ingest"
      ],
      "metadata": {
        "id": "3wXoQ3qBxpGP"
      }
    },
    {
      "cell_type": "code",
      "source": [],
      "metadata": {
        "id": "0uXpcEFhxwSm"
      },
      "execution_count": 1,
      "outputs": []
    },
    {
      "cell_type": "markdown",
      "source": [
        "## EDA"
      ],
      "metadata": {
        "id": "F6kse2AGxsop"
      }
    },
    {
      "cell_type": "code",
      "source": [],
      "metadata": {
        "id": "iDt-j-aUxwx8"
      },
      "execution_count": 1,
      "outputs": []
    },
    {
      "cell_type": "markdown",
      "source": [
        "## modeling"
      ],
      "metadata": {
        "id": "I6g7izUHxt5b"
      }
    },
    {
      "cell_type": "code",
      "source": [],
      "metadata": {
        "id": "fMaw5P18xxPE"
      },
      "execution_count": 1,
      "outputs": []
    },
    {
      "cell_type": "markdown",
      "source": [
        "### Classification AlgorithmA"
      ],
      "metadata": {
        "id": "Y_Ww1uEZyZLH"
      }
    },
    {
      "cell_type": "code",
      "source": [],
      "metadata": {
        "id": "8rbNMLWuy7e3"
      },
      "execution_count": null,
      "outputs": []
    },
    {
      "cell_type": "markdown",
      "source": [
        "\n",
        "\n",
        "### Classification AlgorithmB"
      ],
      "metadata": {
        "id": "G8KbkxRByeLg"
      }
    },
    {
      "cell_type": "code",
      "source": [],
      "metadata": {
        "id": "4easj2oHy6YY"
      },
      "execution_count": null,
      "outputs": []
    },
    {
      "cell_type": "markdown",
      "source": [
        "## Clonclusion"
      ],
      "metadata": {
        "id": "cMY3VtLExyJQ"
      }
    },
    {
      "cell_type": "code",
      "source": [],
      "metadata": {
        "id": "vDrOYYgayweO"
      },
      "execution_count": null,
      "outputs": []
    },
    {
      "cell_type": "code",
      "source": [],
      "metadata": {
        "id": "3sKyeNCIxzpV"
      },
      "execution_count": 1,
      "outputs": []
    }
  ]
}